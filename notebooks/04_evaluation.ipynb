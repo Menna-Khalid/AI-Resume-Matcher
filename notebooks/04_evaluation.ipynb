{
 "cells": [
  {
   "cell_type": "code",
   "execution_count": null,
   "id": "15bba014",
   "metadata": {},
   "outputs": [
    {
     "name": "stderr",
     "output_type": "stream",
     "text": [
      "c:\\AI Resume Matcher\\env\\Lib\\site-packages\\tqdm\\auto.py:21: TqdmWarning: IProgress not found. Please update jupyter and ipywidgets. See https://ipywidgets.readthedocs.io/en/stable/user_install.html\n",
      "  from .autonotebook import tqdm as notebook_tqdm\n",
      "INFO:__main__:Evaluation started at 10:15 PM EEST, Thursday, September 25, 2025\n"
     ]
    }
   ],
   "source": [
    "import os\n",
    "os.chdir('C:/AI Resume Matcher')\n",
    "import pandas as pd\n",
    "import numpy as np\n",
    "import logging\n",
    "import sys\n",
    "from sentence_transformers import SentenceTransformer\n",
    "import matplotlib.pyplot as plt\n",
    "import seaborn as sns\n",
    "from sklearn.metrics import confusion_matrix, roc_curve, auc, classification_report\n",
    "import joblib\n",
    "# Add project root to path\n",
    "sys.path.append(os.path.dirname(os.path.dirname(os.path.abspath(''))))\n",
    "from src.preprocessing import preprocess_text\n",
    "from src.feature_engineering import combine_features, get_tfidf_features\n",
    "from src.models import train_traditional_models, train_bert, EnsembleModel, MatchDataset\n",
    "from src.evaluate import evaluate_model\n",
    "from src.utils import save_model\n",
    "from sentence_transformers import util\n",
    "from transformers import RobertaTokenizer, Trainer, RobertaForSequenceClassification\n",
    "logging.basicConfig(level=logging.INFO)\n",
    "logger = logging.getLogger(__name__)\n",
    "logger.info(\"Evaluation started at 10:15 PM EEST, Thursday, September 25, 2025\")"
   ]
  },
  {
   "cell_type": "code",
   "execution_count": 2,
   "id": "70f73687",
   "metadata": {},
   "outputs": [
    {
     "name": "stderr",
     "output_type": "stream",
     "text": [
      "INFO:__main__:Test data shape: (654, 10)\n",
      "INFO:__main__:Label distribution in test: [338 316]\n"
     ]
    }
   ],
   "source": [
    "# Load test data\n",
    "test_df = pd.read_csv('data/processed/test_clean.csv')\n",
    "\n",
    "# Verify required columns\n",
    "required_columns = ['cv_final', 'jd_final', 'ai_prediction']\n",
    "missing_cols = [col for col in required_columns if col not in test_df.columns]\n",
    "if missing_cols:\n",
    "    logger.warning(f\"Test data missing columns: {missing_cols}\")\n",
    "\n",
    "# Create combined text\n",
    "def create_combined_text(df, cv_col='cv_final', jd_col='jd_final'):\n",
    "    cv_text = df[cv_col].fillna('')\n",
    "    jd_text = df[jd_col].fillna('')\n",
    "    return cv_text + ' [SEP] ' + jd_text\n",
    "\n",
    "test_texts = create_combined_text(test_df)\n",
    "test_labels = test_df['ai_prediction'].values\n",
    "\n",
    "logger.info(f\"Test data shape: {test_df.shape}\")\n",
    "logger.info(f\"Label distribution in test: {np.bincount(test_labels)}\")"
   ]
  },
  {
   "cell_type": "code",
   "execution_count": null,
   "id": "1f9564e3",
   "metadata": {},
   "outputs": [
    {
     "name": "stderr",
     "output_type": "stream",
     "text": [
      "INFO:sentence_transformers.SentenceTransformer:Use pytorch device_name: cpu\n",
      "INFO:sentence_transformers.SentenceTransformer:Load pretrained SentenceTransformer: models/sentence_model\n",
      "INFO:__main__:Models loaded successfully.\n",
      "c:\\AI Resume Matcher\\env\\Lib\\site-packages\\torch\\utils\\data\\dataloader.py:666: UserWarning: 'pin_memory' argument is set as true but no accelerator is found, then device pinned memory won't be used.\n",
      "  warnings.warn(warn_msg)\n"
     ]
    },
    {
     "data": {
      "text/html": [],
      "text/plain": [
       "<IPython.core.display.HTML object>"
      ]
     },
     "metadata": {},
     "output_type": "display_data"
    },
    {
     "name": "stderr",
     "output_type": "stream",
     "text": [
      "INFO:__main__:Predictions made on test set.\n",
      "INFO:__main__:✅ Test predictions saved to data/processed/test_predictions.csv\n"
     ]
    }
   ],
   "source": [
    "from scipy.sparse import hstack\n",
    "from scipy.sparse import csr_matrix\n",
    "# Load saved models and features\n",
    "best_traditional_model = joblib.load('models/best_traditional.pkl')\n",
    "feats = {'tfidf': joblib.load('models/tfidf.pkl')}\n",
    "sentence_model = SentenceTransformer('models/sentence_model')\n",
    "bert_trainer = Trainer(model=RobertaForSequenceClassification.from_pretrained('models/bert_model'))\n",
    "tokenizer = RobertaTokenizer.from_pretrained('models/bert_model')\n",
    "logger.info(\"Models loaded successfully.\")\n",
    "# Reconstruct Ensemble Model\n",
    "ensemble_model = EnsembleModel(best_traditional_model, bert_trainer, tokenizer)\n",
    "# Generate test features using the preloaded TF-IDF vectorizer and similarity features\n",
    "from src.feature_engineering import FeatureEngineer\n",
    "fe = FeatureEngineer()\n",
    "test_tfidf = feats['tfidf'].transform(test_texts)  # TF-IDF features (e.g., 4295 in test data)\n",
    "similarity_features = fe.create_similarity_features(test_texts, test_texts)  # Similarity features\n",
    "test_tfidf_combined = hstack([test_tfidf, csr_matrix(similarity_features)])  # Combine features\n",
    "\n",
    "# Pad or truncate to match the expected 25806 features\n",
    "expected_features = best_traditional_model.n_features_in_  # Should be 25806\n",
    "if test_tfidf_combined.shape[1] < expected_features:\n",
    "    padding_size = expected_features - test_tfidf_combined.shape[1]\n",
    "    padding = csr_matrix((test_tfidf_combined.shape[0], padding_size))\n",
    "    test_tfidf_combined = hstack([test_tfidf_combined, padding])\n",
    "elif test_tfidf_combined.shape[1] > expected_features:\n",
    "    test_tfidf_combined = test_tfidf_combined[:, :expected_features]\n",
    "\n",
    "test_predictions = ensemble_model.predict(test_tfidf_combined, test_texts.tolist())\n",
    "logger.info(\"Predictions made on test set.\")\n",
    "# Save predictions\n",
    "test_df['predictions'] = test_predictions\n",
    "test_df.to_csv('data/processed/test_predictions.csv', index=False)\n",
    "logger.info(\"✅ Test predictions saved to data/processed/test_predictions.csv\")"
   ]
  },
  {
   "cell_type": "code",
   "execution_count": null,
   "id": "11af62a1",
   "metadata": {},
   "outputs": [
    {
     "name": "stdout",
     "output_type": "stream",
     "text": [
      "\n",
      "Model - ENHANCED EVALUATION\n",
      "==================================================\n",
      "Accuracy:      0.7920 (79.2%)\n",
      "Precision:     0.8285\n",
      "Recall:        0.7184\n",
      "F1 Score:      0.7695\n",
      "Specificity:   0.8609\n",
      "Balanced Acc:  0.7897\n",
      "📊 Gap to target: 10.8% (Current: 79.2%, Target: 90%)\n",
      "\n",
      "Confusion Matrix:\n",
      "              Predicted\n",
      "           No Match  Match\n",
      "No Match       291      47\n",
      "Match           89     227\n",
      "\n",
      "Error Analysis:\n",
      "Total samples: 654\n",
      "Correct: 518 (79.2%)\n",
      "False Positives: 47 (7.2%)\n",
      "False Negatives: 89 (13.6%)\n",
      "⚠️  Consider reducing false positives\n",
      "⚠️  Consider reducing false negatives\n",
      "\n",
      "Evaluation Metrics:\n",
      "              precision    recall  f1-score   support\n",
      "\n",
      "    No Match       0.77      0.86      0.81       338\n",
      "       Match       0.83      0.72      0.77       316\n",
      "\n",
      "    accuracy                           0.79       654\n",
      "   macro avg       0.80      0.79      0.79       654\n",
      "weighted avg       0.80      0.79      0.79       654\n",
      "\n"
     ]
    },
    {
     "data": {
      "image/png": "[encoded data removed]",
      "text/plain": [
       "<Figure size 800x600 with 1 Axes>"
      ]
     },
     "metadata": {},
     "output_type": "display_data"
    }
   ],
   "source": [
    "# Evaluate model\n",
    "metrics = evaluate_model(test_labels, test_predictions)\n",
    "print(\"\\nEvaluation Metrics:\")\n",
    "print(classification_report(test_labels, test_predictions, target_names=['No Match', 'Match']))\n",
    "# Plot ROC\n",
    "fpr, tpr, _ = roc_curve(test_labels, test_predictions)\n",
    "roc_auc = auc(fpr, tpr)\n",
    "plt.figure(figsize=(8, 6))\n",
    "plt.plot(fpr, tpr, color='darkorange', lw=2, label=f'ROC curve (AUC = {roc_auc:.2f})')\n",
    "plt.plot([0, 1], [0, 1], color='navy', lw=2, linestyle='--')\n",
    "plt.title('ROC Curve - Test Set')\n",
    "plt.xlabel('False Positive Rate')\n",
    "plt.ylabel('True Positive Rate')\n",
    "plt.legend(loc=\"lower right\")\n",
    "plt.show()"
   ]
  },
  {
   "cell_type": "code",
   "execution_count": null,
   "id": "ca69452b",
   "metadata": {},
   "outputs": [
    {
     "name": "stdout",
     "output_type": "stream",
     "text": [
      "\n",
      "Summary of Test Results:\n",
      "Accuracy: 0.7920\n",
      "Precision: 0.8285\n",
      "Recall: 0.7184\n"
     ]
    },
    {
     "name": "stderr",
     "output_type": "stream",
     "text": [
      "c:\\AI Resume Matcher\\env\\Lib\\site-packages\\torch\\utils\\data\\dataloader.py:666: UserWarning: 'pin_memory' argument is set as true but no accelerator is found, then device pinned memory won't be used.\n",
      "  warnings.warn(warn_msg)\n"
     ]
    },
    {
     "data": {
      "text/html": [],
      "text/plain": [
       "<IPython.core.display.HTML object>"
      ]
     },
     "metadata": {},
     "output_type": "display_data"
    },
    {
     "name": "stdout",
     "output_type": "stream",
     "text": [
      "\n",
      "Model - ENHANCED EVALUATION\n",
      "==================================================\n",
      "Accuracy:      0.8178 (81.8%)\n",
      "Precision:     0.8082\n",
      "Recall:        0.8159\n",
      "F1 Score:      0.8120\n",
      "Specificity:   0.8195\n",
      "Balanced Acc:  0.8177\n",
      "📊 Gap to target: 8.2% (Current: 81.8%, Target: 90%)\n",
      "\n",
      "Confusion Matrix:\n",
      "              Predicted\n",
      "           No Match  Match\n",
      "No Match       277      61\n",
      "Match           58     257\n",
      "\n",
      "Error Analysis:\n",
      "Total samples: 653\n",
      "Correct: 534 (81.8%)\n",
      "False Positives: 61 (9.3%)\n",
      "False Negatives: 58 (8.9%)\n",
      "⚠️  Consider reducing false positives\n",
      "⚠️  Consider reducing false negatives\n",
      "\n",
      "Validation Metrics for Comparison:\n",
      "Accuracy: 0.8178\n",
      "Precision: 0.8082\n",
      "Recall: 0.8159\n"
     ]
    }
   ],
   "source": [
    "# Summary of Results\n",
    "print(\"\\nSummary of Test Results:\")\n",
    "print(f\"Accuracy: {metrics['accuracy']:.4f}\")\n",
    "print(f\"Precision: {metrics['precision']:.4f}\")\n",
    "print(f\"Recall: {metrics['recall']:.4f}\")\n",
    "# Optional: Compare with validation set\n",
    "val_df = pd.read_csv('data/processed/val_clean.csv')\n",
    "val_texts = create_combined_text(val_df)\n",
    "val_labels = val_df['ai_prediction'].values\n",
    "val_tfidf = feats['tfidf'].transform(val_texts)  # TF-IDF features\n",
    "val_similarity_features = fe.create_similarity_features(val_texts, val_texts)  # Similarity features\n",
    "val_tfidf_combined = hstack([val_tfidf, csr_matrix(val_similarity_features)])  # Combine features\n",
    "\n",
    "# Pad or truncate to match the expected 25806 features\n",
    "if val_tfidf_combined.shape[1] < expected_features:\n",
    "    padding_size = expected_features - val_tfidf_combined.shape[1]\n",
    "    padding = csr_matrix((val_tfidf_combined.shape[0], padding_size))\n",
    "    val_tfidf_combined = hstack([val_tfidf_combined, padding])\n",
    "elif val_tfidf_combined.shape[1] > expected_features:\n",
    "    val_tfidf_combined = val_tfidf_combined[:, :expected_features]\n",
    "\n",
    "val_predictions = ensemble_model.predict(val_tfidf_combined, val_texts.tolist())\n",
    "val_metrics = evaluate_model(val_labels, val_predictions)\n",
    "print(\"\\nValidation Metrics for Comparison:\")\n",
    "print(f\"Accuracy: {val_metrics['accuracy']:.4f}\")\n",
    "print(f\"Precision: {val_metrics['precision']:.4f}\")\n",
    "print(f\"Recall: {val_metrics['recall']:.4f}\")"
   ]
  }
 ],
 "metadata": {
  "kernelspec": {
   "display_name": "env",
   "language": "python",
   "name": "python3"
  },
  "language_info": {
   "codemirror_mode": {
    "name": "ipython",
    "version": 3
   },
   "file_extension": ".py",
   "mimetype": "text/x-python",
   "name": "python",
   "nbconvert_exporter": "python",
   "pygments_lexer": "ipython3",
   "version": "3.12.0"
  }
 },
 "nbformat": 4,
 "nbformat_minor": 5
}
